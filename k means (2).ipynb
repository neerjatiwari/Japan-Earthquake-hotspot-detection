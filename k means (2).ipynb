{
 "cells": [
  {
   "cell_type": "code",
   "execution_count": 1,
   "metadata": {},
   "outputs": [],
   "source": [
    "import pandas as pd\n",
    "import numpy as np\n",
    "import matplotlib.pyplot as plt\n",
    "\n",
    "data = pd.read_csv(\"japan.csv\")"
   ]
  },
  {
   "cell_type": "code",
   "execution_count": 2,
   "metadata": {},
   "outputs": [
    {
     "data": {
      "text/html": [
       "<div>\n",
       "<style scoped>\n",
       "    .dataframe tbody tr th:only-of-type {\n",
       "        vertical-align: middle;\n",
       "    }\n",
       "\n",
       "    .dataframe tbody tr th {\n",
       "        vertical-align: top;\n",
       "    }\n",
       "\n",
       "    .dataframe thead th {\n",
       "        text-align: right;\n",
       "    }\n",
       "</style>\n",
       "<table border=\"1\" class=\"dataframe\">\n",
       "  <thead>\n",
       "    <tr style=\"text-align: right;\">\n",
       "      <th></th>\n",
       "      <th>time</th>\n",
       "      <th>latitude</th>\n",
       "      <th>longitude</th>\n",
       "      <th>depth</th>\n",
       "      <th>mag</th>\n",
       "      <th>magType</th>\n",
       "      <th>nst</th>\n",
       "      <th>gap</th>\n",
       "      <th>dmin</th>\n",
       "      <th>rms</th>\n",
       "      <th>...</th>\n",
       "      <th>updated</th>\n",
       "      <th>place</th>\n",
       "      <th>type</th>\n",
       "      <th>horizontalError</th>\n",
       "      <th>depthError</th>\n",
       "      <th>magError</th>\n",
       "      <th>magNst</th>\n",
       "      <th>status</th>\n",
       "      <th>locationSource</th>\n",
       "      <th>magSource</th>\n",
       "    </tr>\n",
       "  </thead>\n",
       "  <tbody>\n",
       "    <tr>\n",
       "      <th>0</th>\n",
       "      <td>2018-11-27T14:34:20.900Z</td>\n",
       "      <td>48.3780</td>\n",
       "      <td>154.9620</td>\n",
       "      <td>35.00</td>\n",
       "      <td>4.9</td>\n",
       "      <td>mb</td>\n",
       "      <td>NaN</td>\n",
       "      <td>92.0</td>\n",
       "      <td>5.044</td>\n",
       "      <td>0.63</td>\n",
       "      <td>...</td>\n",
       "      <td>2018-11-27T16:06:33.040Z</td>\n",
       "      <td>269km SSW of Severo-Kuril'sk, Russia</td>\n",
       "      <td>earthquake</td>\n",
       "      <td>7.6</td>\n",
       "      <td>1.7</td>\n",
       "      <td>0.036</td>\n",
       "      <td>248.0</td>\n",
       "      <td>reviewed</td>\n",
       "      <td>us</td>\n",
       "      <td>us</td>\n",
       "    </tr>\n",
       "    <tr>\n",
       "      <th>1</th>\n",
       "      <td>2018-11-26T23:33:50.630Z</td>\n",
       "      <td>36.0733</td>\n",
       "      <td>139.7830</td>\n",
       "      <td>48.82</td>\n",
       "      <td>4.8</td>\n",
       "      <td>mww</td>\n",
       "      <td>NaN</td>\n",
       "      <td>113.0</td>\n",
       "      <td>1.359</td>\n",
       "      <td>1.13</td>\n",
       "      <td>...</td>\n",
       "      <td>2018-11-27T16:44:22.223Z</td>\n",
       "      <td>3km SSW of Sakai, Japan</td>\n",
       "      <td>earthquake</td>\n",
       "      <td>6.0</td>\n",
       "      <td>6.1</td>\n",
       "      <td>0.071</td>\n",
       "      <td>19.0</td>\n",
       "      <td>reviewed</td>\n",
       "      <td>us</td>\n",
       "      <td>us</td>\n",
       "    </tr>\n",
       "    <tr>\n",
       "      <th>2</th>\n",
       "      <td>2018-11-26T13:04:02.250Z</td>\n",
       "      <td>38.8576</td>\n",
       "      <td>141.8384</td>\n",
       "      <td>50.56</td>\n",
       "      <td>4.5</td>\n",
       "      <td>mb</td>\n",
       "      <td>NaN</td>\n",
       "      <td>145.0</td>\n",
       "      <td>1.286</td>\n",
       "      <td>0.84</td>\n",
       "      <td>...</td>\n",
       "      <td>2018-11-26T23:52:21.074Z</td>\n",
       "      <td>26km SSE of Ofunato, Japan</td>\n",
       "      <td>earthquake</td>\n",
       "      <td>8.4</td>\n",
       "      <td>9.5</td>\n",
       "      <td>0.156</td>\n",
       "      <td>12.0</td>\n",
       "      <td>reviewed</td>\n",
       "      <td>us</td>\n",
       "      <td>us</td>\n",
       "    </tr>\n",
       "    <tr>\n",
       "      <th>3</th>\n",
       "      <td>2018-11-26T05:20:16.440Z</td>\n",
       "      <td>50.0727</td>\n",
       "      <td>156.1420</td>\n",
       "      <td>66.34</td>\n",
       "      <td>4.6</td>\n",
       "      <td>mb</td>\n",
       "      <td>NaN</td>\n",
       "      <td>128.0</td>\n",
       "      <td>3.191</td>\n",
       "      <td>0.62</td>\n",
       "      <td>...</td>\n",
       "      <td>2018-11-26T08:13:58.040Z</td>\n",
       "      <td>67km S of Severo-Kuril'sk, Russia</td>\n",
       "      <td>earthquake</td>\n",
       "      <td>9.7</td>\n",
       "      <td>7.8</td>\n",
       "      <td>0.045</td>\n",
       "      <td>151.0</td>\n",
       "      <td>reviewed</td>\n",
       "      <td>us</td>\n",
       "      <td>us</td>\n",
       "    </tr>\n",
       "    <tr>\n",
       "      <th>4</th>\n",
       "      <td>2018-11-25T09:19:05.010Z</td>\n",
       "      <td>33.9500</td>\n",
       "      <td>134.4942</td>\n",
       "      <td>38.19</td>\n",
       "      <td>4.6</td>\n",
       "      <td>mb</td>\n",
       "      <td>NaN</td>\n",
       "      <td>104.0</td>\n",
       "      <td>0.558</td>\n",
       "      <td>0.61</td>\n",
       "      <td>...</td>\n",
       "      <td>2018-11-25T23:24:52.615Z</td>\n",
       "      <td>9km SW of Komatsushima, Japan</td>\n",
       "      <td>earthquake</td>\n",
       "      <td>3.4</td>\n",
       "      <td>10.1</td>\n",
       "      <td>0.132</td>\n",
       "      <td>17.0</td>\n",
       "      <td>reviewed</td>\n",
       "      <td>us</td>\n",
       "      <td>us</td>\n",
       "    </tr>\n",
       "  </tbody>\n",
       "</table>\n",
       "<p>5 rows × 22 columns</p>\n",
       "</div>"
      ],
      "text/plain": [
       "                       time  latitude  longitude  depth  mag magType  nst  \\\n",
       "0  2018-11-27T14:34:20.900Z   48.3780   154.9620  35.00  4.9      mb  NaN   \n",
       "1  2018-11-26T23:33:50.630Z   36.0733   139.7830  48.82  4.8     mww  NaN   \n",
       "2  2018-11-26T13:04:02.250Z   38.8576   141.8384  50.56  4.5      mb  NaN   \n",
       "3  2018-11-26T05:20:16.440Z   50.0727   156.1420  66.34  4.6      mb  NaN   \n",
       "4  2018-11-25T09:19:05.010Z   33.9500   134.4942  38.19  4.6      mb  NaN   \n",
       "\n",
       "     gap   dmin   rms  ...                   updated  \\\n",
       "0   92.0  5.044  0.63  ...  2018-11-27T16:06:33.040Z   \n",
       "1  113.0  1.359  1.13  ...  2018-11-27T16:44:22.223Z   \n",
       "2  145.0  1.286  0.84  ...  2018-11-26T23:52:21.074Z   \n",
       "3  128.0  3.191  0.62  ...  2018-11-26T08:13:58.040Z   \n",
       "4  104.0  0.558  0.61  ...  2018-11-25T23:24:52.615Z   \n",
       "\n",
       "                                  place        type horizontalError  \\\n",
       "0  269km SSW of Severo-Kuril'sk, Russia  earthquake             7.6   \n",
       "1               3km SSW of Sakai, Japan  earthquake             6.0   \n",
       "2            26km SSE of Ofunato, Japan  earthquake             8.4   \n",
       "3     67km S of Severo-Kuril'sk, Russia  earthquake             9.7   \n",
       "4         9km SW of Komatsushima, Japan  earthquake             3.4   \n",
       "\n",
       "  depthError  magError  magNst    status  locationSource magSource  \n",
       "0        1.7     0.036   248.0  reviewed              us        us  \n",
       "1        6.1     0.071    19.0  reviewed              us        us  \n",
       "2        9.5     0.156    12.0  reviewed              us        us  \n",
       "3        7.8     0.045   151.0  reviewed              us        us  \n",
       "4       10.1     0.132    17.0  reviewed              us        us  \n",
       "\n",
       "[5 rows x 22 columns]"
      ]
     },
     "execution_count": 2,
     "metadata": {},
     "output_type": "execute_result"
    }
   ],
   "source": [
    "data.head()"
   ]
  },
  {
   "cell_type": "code",
   "execution_count": 3,
   "metadata": {},
   "outputs": [
    {
     "data": {
      "text/plain": [
       "time                object\n",
       "latitude           float64\n",
       "longitude          float64\n",
       "depth              float64\n",
       "mag                float64\n",
       "magType             object\n",
       "nst                float64\n",
       "gap                float64\n",
       "dmin               float64\n",
       "rms                float64\n",
       "net                 object\n",
       "id                  object\n",
       "updated             object\n",
       "place               object\n",
       "type                object\n",
       "horizontalError    float64\n",
       "depthError         float64\n",
       "magError           float64\n",
       "magNst             float64\n",
       "status              object\n",
       "locationSource      object\n",
       "magSource           object\n",
       "dtype: object"
      ]
     },
     "execution_count": 3,
     "metadata": {},
     "output_type": "execute_result"
    }
   ],
   "source": [
    "data.dtypes"
   ]
  },
  {
   "cell_type": "code",
   "execution_count": 4,
   "metadata": {},
   "outputs": [
    {
     "data": {
      "text/plain": [
       "(14092, 22)"
      ]
     },
     "execution_count": 4,
     "metadata": {},
     "output_type": "execute_result"
    }
   ],
   "source": [
    "data.shape"
   ]
  },
  {
   "cell_type": "code",
   "execution_count": 5,
   "metadata": {},
   "outputs": [],
   "source": [
    "import numpy as np"
   ]
  },
  {
   "cell_type": "code",
   "execution_count": 6,
   "metadata": {},
   "outputs": [],
   "source": [
    "df = data.select_dtypes([np.float64])"
   ]
  },
  {
   "cell_type": "code",
   "execution_count": 7,
   "metadata": {},
   "outputs": [
    {
     "data": {
      "text/plain": [
       "(14092, 12)"
      ]
     },
     "execution_count": 7,
     "metadata": {},
     "output_type": "execute_result"
    }
   ],
   "source": [
    "df.shape"
   ]
  },
  {
   "cell_type": "code",
   "execution_count": 8,
   "metadata": {},
   "outputs": [
    {
     "data": {
      "text/plain": [
       "<matplotlib.collections.PathCollection at 0x21278554d60>"
      ]
     },
     "execution_count": 8,
     "metadata": {},
     "output_type": "execute_result"
    },
    {
     "data": {
      "image/png": "[encoded data removed]",
      "text/plain": [
       "<Figure size 432x288 with 1 Axes>"
      ]
     },
     "metadata": {
      "needs_background": "light"
     },
     "output_type": "display_data"
    }
   ],
   "source": [
    "plt.scatter(df.iloc[:,0], df.iloc[:,1],s=15, c= \"red\")"
   ]
  },
  {
   "cell_type": "code",
   "execution_count": 9,
   "metadata": {},
   "outputs": [],
   "source": [
    "from sklearn.cluster import KMeans"
   ]
  },
  {
   "cell_type": "code",
   "execution_count": 10,
   "metadata": {},
   "outputs": [
    {
     "data": {
      "text/plain": [
       "latitude               0\n",
       "longitude              0\n",
       "depth                  0\n",
       "mag                    0\n",
       "nst                 3609\n",
       "gap                  782\n",
       "dmin               10485\n",
       "rms                   78\n",
       "horizontalError    11292\n",
       "depthError          5052\n",
       "magError           10661\n",
       "magNst              3044\n",
       "dtype: int64"
      ]
     },
     "execution_count": 10,
     "metadata": {},
     "output_type": "execute_result"
    }
   ],
   "source": [
    "df.isnull().sum()"
   ]
  },
  {
   "cell_type": "code",
   "execution_count": 14,
   "metadata": {},
   "outputs": [
    {
     "name": "stderr",
     "output_type": "stream",
     "text": [
      "<ipython-input-14-d4041822acfa>:1: SettingWithCopyWarning: \n",
      "A value is trying to be set on a copy of a slice from a DataFrame\n",
      "\n",
      "See the caveats in the documentation: https://pandas.pydata.org/pandas-docs/stable/user_guide/indexing.html#returning-a-view-versus-a-copy\n",
      "  df.dropna(axis=1, inplace=True)\n"
     ]
    }
   ],
   "source": [
    "df.dropna(axis=1, inplace=True)"
   ]
  },
  {
   "cell_type": "code",
   "execution_count": 15,
   "metadata": {},
   "outputs": [
    {
     "data": {
      "text/plain": [
       "(14092, 4)"
      ]
     },
     "execution_count": 15,
     "metadata": {},
     "output_type": "execute_result"
    }
   ],
   "source": [
    "df.shape"
   ]
  },
  {
   "cell_type": "code",
   "execution_count": 16,
   "metadata": {},
   "outputs": [
    {
     "data": {
      "image/png": "[encoded data removed]",
      "text/plain": [
       "<Figure size 432x288 with 1 Axes>"
      ]
     },
     "metadata": {
      "needs_background": "light"
     },
     "output_type": "display_data"
    }
   ],
   "source": [
    "wcss = []\n",
    "for i in range(1,11):\n",
    "    kmeans = KMeans(n_clusters=i, init = \"k-means++\", \n",
    "                   max_iter= 300, n_init=10)\n",
    "    kmeans.fit(df)\n",
    "    wcss.append(kmeans.inertia_)\n",
    "plt.plot(range(1,11), wcss)\n",
    "plt.title(\"Elbow Method\")\n",
    "plt.xlabel(\"Number of clusters\")\n",
    "plt.ylabel(\"WCSS\")\n",
    "plt.show()"
   ]
  },
  {
   "cell_type": "code",
   "execution_count": 17,
   "metadata": {},
   "outputs": [],
   "source": [
    "kmeans = KMeans(n_clusters=3, init= \"k-means++\",\n",
    "               max_iter= 300, n_init=10)\n",
    "labels = kmeans.fit_predict(df)"
   ]
  },
  {
   "cell_type": "code",
   "execution_count": 18,
   "metadata": {},
   "outputs": [
    {
     "data": {
      "text/plain": [
       "array([0, 1, 2])"
      ]
     },
     "execution_count": 18,
     "metadata": {},
     "output_type": "execute_result"
    }
   ],
   "source": [
    "np.unique(labels)"
   ]
  },
  {
   "cell_type": "code",
   "execution_count": 20,
   "metadata": {},
   "outputs": [
    {
     "data": {
      "image/png": "[encoded data removed]",
      "text/plain": [
       "<Figure size 432x288 with 1 Axes>"
      ]
     },
     "metadata": {
      "needs_background": "light"
     },
     "output_type": "display_data"
    }
   ],
   "source": [
    "plt.scatter(df.iloc[labels==0,0], df.iloc[labels==0,1], s=50, c= \"red\")\n",
    "plt.scatter(df.iloc[labels==1,0], df.iloc[labels==1,1], s=50, c= \"blue\")\n",
    "plt.scatter(df.iloc[labels==2,0], df.iloc[labels==2,1], s=50, c= \"green\")\n",
    "\n",
    "plt.scatter(kmeans.cluster_centers_[:,0],\n",
    "           kmeans.cluster_centers_[:,1], s=100, c= \"black\")\n",
    "plt.title(\"\")\n",
    "plt.xlabel(\"\")\n",
    "plt.ylabel(\"\")\n",
    "plt.show()"
   ]
  },
  {
   "cell_type": "code",
   "execution_count": null,
   "metadata": {},
   "outputs": [],
   "source": []
  }
 ],
 "metadata": {
  "kernelspec": {
   "display_name": "Python 3",
   "language": "python",
   "name": "python3"
  },
  "language_info": {
   "codemirror_mode": {
    "name": "ipython",
    "version": 3
   },
   "file_extension": ".py",
   "mimetype": "text/x-python",
   "name": "python",
   "nbconvert_exporter": "python",
   "pygments_lexer": "ipython3",
   "version": "3.8.3"
  }
 },
 "nbformat": 4,
 "nbformat_minor": 4
}
